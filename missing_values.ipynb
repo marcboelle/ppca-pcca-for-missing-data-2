{
 "cells": [
  {
   "cell_type": "code",
   "execution_count": null,
   "metadata": {},
   "outputs": [],
   "source": [
    "import os\n",
    "import sys\n",
    "from sklearn.preprocessing import StandardScaler\n",
    "from sklearn.cross_decomposition import CCA\n",
    "import numpy as np\n",
    "\n",
    "sys.path.append(os.path.abspath(\"..\"))\n",
    "from models import PCCA\n",
    "from utils import plot_CCA_iris, introduce_missing_values"
   ]
  },
  {
   "cell_type": "markdown",
   "metadata": {},
   "source": [
    "Let's first load the Iris dataset."
   ]
  },
  {
   "cell_type": "code",
   "execution_count": null,
   "metadata": {},
   "outputs": [],
   "source": [
    "from sklearn.datasets import load_iris\n",
    "\n",
    "iris = load_iris()\n",
    "X = iris.data \n",
    "y = iris.target\n",
    "target_names = iris.target_names\n",
    "\n",
    "# colors to visualize the species clusters\n",
    "colors = ['mediumturquoise', 'navy', 'orange']\n",
    "\n",
    "# Print the features to know which column corresponds to which feature.\n",
    "print(iris.feature_names)"
   ]
  },
  {
   "cell_type": "markdown",
   "metadata": {},
   "source": [
    "We perform CCA on $X_A$ containing width features (indices 0 and 2) and $X_B$ containing length features (indices 1 and 3). We run the experiment with the following ratios for missing data: 0%, 15% and 30%."
   ]
  },
  {
   "cell_type": "code",
   "execution_count": null,
   "metadata": {},
   "outputs": [],
   "source": [
    "indices_A = [0, 2]\n",
    "indices_B = [1, 3]\n",
    "\n",
    "missing_ratios = [0, 0.15, 0.3]"
   ]
  },
  {
   "cell_type": "code",
   "execution_count": null,
   "metadata": {},
   "outputs": [],
   "source": [
    "for missing_ratio in missing_ratios:\n",
    "\n",
    "    # Introduce missing values\n",
    "    X_missing = introduce_missing_values(X, missing_ratio)\n",
    "    scaler = StandardScaler()\n",
    "    X_missing_scaled = scaler.fit_transform(X_missing)\n",
    "    \n",
    "    # PROBABILISTIC CCA -----------------------------------------------------------------------------------------------\n",
    "\n",
    "    # Split the dataset\n",
    "    XA, XB  = X_missing_scaled[:,indices_A], X_missing_scaled[:,indices_B]\n",
    "\n",
    "    # Run the EM\n",
    "    pcca = PCCA(n_components=1, max_iter=1000, tol=1e-10)\n",
    "    pcca.fit(XA, XB)\n",
    "\n",
    "    # Get the projections\n",
    "    XA_c, XB_c = pcca.transform(XA, XB)\n",
    "\n",
    "    # Results\n",
    "    print(f'Correlation with Probabilistic CCA and {100*missing_ratio}% missing values: {np.corrcoef(XA_c.flatten(), XB_c.flatten())[0,1]:.3f}')\n",
    "    plot_CCA_iris(XA_c, XB_c, colors, y, target_names, save=False, save_path=f\"PCCA{100*missing_ratio:.0f}IRIS.pdf\")\n",
    "    \n",
    "    \n",
    "    # STANDARD CCA -----------------------------------------------------------------------------------------------\n",
    "    \n",
    "    # Fill missing values with the mean\n",
    "    X_missing_filled = X_missing.copy()\n",
    "    X_missing_filled[np.isnan(X_missing_filled)] = np.mean(X_missing_filled[~np.isnan(X_missing_filled)], axis=0)\n",
    "    scaler = StandardScaler()\n",
    "    X_missing_filled = scaler.fit_transform(X_missing_filled)\n",
    "    \n",
    "    # Split the dataset\n",
    "    XA, XB = X_missing_filled[:,indices_A], X_missing_filled[:,indices_B]\n",
    "\n",
    "    # Perform CCA\n",
    "    cca = CCA(n_components=1) \n",
    "    cca.fit(XA, XB)\n",
    "\n",
    "    # Get the projections\n",
    "    XA_c, XB_c = cca.transform(XA, XB)\n",
    "\n",
    "    # Results\n",
    "    print(f'Correlation with Standard CCA and {100*missing_ratio}% missing values: {np.corrcoef(XA_c.flatten(), XB_c.flatten())[0,1]:.3f}')\n",
    "    plot_CCA_iris(XA_c, XB_c, colors, y, target_names, save=False, save_path=f\"CCA{100*missing_ratio:.0f}IRIS.pdf\")"
   ]
  }
 ],
 "metadata": {
  "kernelspec": {
   "display_name": ".venv",
   "language": "python",
   "name": "python3"
  },
  "language_info": {
   "codemirror_mode": {
    "name": "ipython",
    "version": 3
   },
   "file_extension": ".py",
   "mimetype": "text/x-python",
   "name": "python",
   "nbconvert_exporter": "python",
   "pygments_lexer": "ipython3",
   "version": "3.12.2"
  }
 },
 "nbformat": 4,
 "nbformat_minor": 2
}
